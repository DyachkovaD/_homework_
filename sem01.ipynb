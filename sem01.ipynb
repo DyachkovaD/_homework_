{
 "cells": [
  {
   "cell_type": "markdown",
   "id": "03432524-06d8-4fa5-a96d-1dd2602dc73c",
   "metadata": {},
   "source": [
    "### Повторение"
   ]
  },
  {
   "cell_type": "markdown",
   "id": "94f90ce5-c116-4078-9472-edf3ff764f84",
   "metadata": {},
   "source": [
    "#### Задача 1. \n",
    "\n",
    "Напишите функцию scramble: функция принимает на вход две строчки и должна проверить, чтобы из букв первой строки можно было составить вторую строку. Например, если у нас s1 = 'javascript', а s2 = 'java', то функция должна вернуть True. То же самое касательно варианта s1 = 'абырвалг' и s2 = 'главрыба', то есть, 1) вторая строка не обязательно содержит все буквы из первой, но если во второй строке две буквы \"с\", а в первой только одна, то должно быть False 2) буквы могут быть в любом порядке. "
   ]
  },
  {
   "cell_type": "code",
   "execution_count": 2,
   "id": "f48c7cbf-64fa-47bb-8c1e-190ff274b156",
   "metadata": {},
   "outputs": [],
   "source": [
    "def scramble(str1, str2):\n",
    "    l_str1 = list(str1)\n",
    "    for i in str2:\n",
    "        if i in l_str1:\n",
    "            l_str1.remove(i)\n",
    "        else:\n",
    "            return False\n",
    "    else:\n",
    "        return True\n",
    "\n"
   ]
  },
  {
   "cell_type": "code",
   "execution_count": 4,
   "id": "f224ca6b-04f7-42cc-bab1-908dd83ec46e",
   "metadata": {},
   "outputs": [
    {
     "data": {
      "text/plain": [
       "True"
      ]
     },
     "execution_count": 4,
     "metadata": {},
     "output_type": "execute_result"
    }
   ],
   "source": [
    "scramble('javascript', 'cava')\n",
    "        "
   ]
  },
  {
   "cell_type": "markdown",
   "id": "4085165a-1baa-4972-86fd-e159241f84e8",
   "metadata": {},
   "source": [
    "#### Задача 2. \n",
    "\n",
    "Правильные скобки. На вход подается строка, которая содержит только и исключительно скобки трех видов: круглые, квадратные и фигурные. Например, '{[([({})])]}'. Ваша задача - написать функцию, которая бы проверяла правильность последовательности скобок и возвращала True или False. Примеры правильных и неправильных строк:\n",
    "\n",
    "    '[(])' = False\n",
    "    ')[](' = False\n",
    "    '{[()]}' = True"
   ]
  },
  {
   "cell_type": "code",
   "execution_count": 3,
   "id": "f5a9ac29-6d9d-41b9-b5cb-3decce80f1dc",
   "metadata": {},
   "outputs": [],
   "source": [
    "def func(string):\n",
    "    stack = []\n",
    "    is_right = True\n",
    "    for c in string:\n",
    "        if stack == [] and c in ')]}':\n",
    "            is_right = False\n",
    "            break\n",
    "        if c in '([{':\n",
    "               stack.append(c)\n",
    "        elif c in ')]}':\n",
    "            if c == ')' and stack.pop() == '(':\n",
    "                continue\n",
    "            if c == ']' and stack.pop() == '[':\n",
    "                continue\n",
    "            if c == '}' and stack.pop() == '{':\n",
    "                continue\n",
    "            is_right = False\n",
    "            break\n",
    "    return is_right"
   ]
  },
  {
   "cell_type": "code",
   "execution_count": 7,
   "id": "714e0b15-2b15-447c-9848-3f807f2b2434",
   "metadata": {},
   "outputs": [
    {
     "data": {
      "text/plain": [
       "False"
      ]
     },
     "execution_count": 7,
     "metadata": {},
     "output_type": "execute_result"
    }
   ],
   "source": [
    "str = ')[]('\n",
    "\n",
    "func(str)"
   ]
  },
  {
   "cell_type": "markdown",
   "id": "03454a26-b47e-440f-8f82-9ad76f471033",
   "metadata": {},
   "source": [
    "#### Задача 3.\n",
    "\n",
    "Напишите программу, которая считывает содержимое (любого) текстового файла, разбивает его содержимое на слова, приводит их к леммам и составляет частотный словарь. Постройте график для десяти самых частотных слов с помощью библиотеки matplotlib."
   ]
  },
  {
   "cell_type": "code",
   "execution_count": 33,
   "id": "7bba6138-04c3-4a2d-907b-b77c5a53204f",
   "metadata": {
    "collapsed": true,
    "jupyter": {
     "outputs_hidden": true
    },
    "tags": []
   },
   "outputs": [
    {
     "name": "stdout",
     "output_type": "stream",
     "text": [
      "Already downloaded a model for the 'ru' language\n"
     ]
    }
   ],
   "source": [
    "# from nltk import word_tokenize\n",
    "# import pymorphy2\n",
    "import matplotlib.pyplot as plt\n",
    "import numpy as np\n",
    "from nltk.corpus import stopwords\n",
    "import spacy_udpipe\n",
    "spacy_udpipe.download('ru')"
   ]
  },
  {
   "cell_type": "code",
   "execution_count": 50,
   "id": "c632f4f0-38f6-4615-a888-c23ba32831c8",
   "metadata": {
    "tags": []
   },
   "outputs": [
    {
     "data": {
      "image/png": "[encoded data removed]",
      "text/plain": [
       "<Figure size 864x360 with 1 Axes>"
      ]
     },
     "metadata": {
      "needs_background": "light"
     },
     "output_type": "display_data"
    }
   ],
   "source": [
    "text = open('01.txt', 'r', encoding='utf-8').read()\n",
    "\n",
    "nlp = spacy_udpipe.load('ru')\n",
    "doc = nlp(text)\n",
    "punctuation = ['.', ',', '!', '?', ':', '(', ')', '…', '-', ';', '»', '«', '–']\n",
    "\n",
    "lemmas = [token.lemma_ for token in doc]\n",
    "for item in lemmas:                   # удаляет не всю пунктуацию, не понимаю почему\n",
    "    if item in punctuation:\n",
    "        lemmas.remove(item)\n",
    "        \n",
    "sw = stopwords.words(\"russian\")\n",
    "dic = {a: lemmas.count(a) for a in lemmas if a not in sw}\n",
    "sorted_dic = dict(sorted(dic.items(), key=lambda item: item[1], reverse=True))\n",
    "\n",
    "fig = plt.figure(figsize=(12, 5))\n",
    "ax3 = plt.subplot()\n",
    "x = list(sorted_dic.keys())\n",
    "y = list(sorted_dic.values())\n",
    "x = x[:10]\n",
    "y = y[:10]\n",
    "ax3.set_ylabel('частота')\n",
    "\n",
    "ax3.plot(x, y)\n",
    "plt.show()"
   ]
  },
  {
   "cell_type": "markdown",
   "id": "bb16a2cf-3bf8-44ee-bd12-9d9cde4f1ede",
   "metadata": {},
   "source": [
    "#### Задача 4. \n",
    "\n",
    "Постройте деревья зависимостей (любым известным вам способом) для любых трех выбранных вами предложений. Парсер тоже можно использовать любой, какой помните."
   ]
  },
  {
   "cell_type": "code",
   "execution_count": 1,
   "id": "e70e4ddd-95f4-4a0d-af18-4089ab4a33ba",
   "metadata": {},
   "outputs": [
    {
     "data": {
      "text/html": [
       "<span class=\"tex2jax_ignore\"><svg xmlns=\"http://www.w3.org/2000/svg\" xmlns:xlink=\"http://www.w3.org/1999/xlink\" xml:lang=\"ru\" id=\"a5d8eea469ac4bd19ce7ee52e19aa7eb-0\" class=\"displacy\" width=\"575\" height=\"224.5\" direction=\"ltr\" style=\"max-width: none; height: 224.5px; color: black; background: ocean; font-family: Source Sans Pro; direction: ltr\">\n",
       "<text class=\"displacy-token\" fill=\"currentColor\" text-anchor=\"middle\" y=\"134.5\">\n",
       "    <tspan class=\"displacy-word\" fill=\"currentColor\" x=\"50\">Мама</tspan>\n",
       "    <tspan class=\"displacy-tag\" dy=\"2em\" fill=\"currentColor\" x=\"50\">NOUN</tspan>\n",
       "</text>\n",
       "\n",
       "<text class=\"displacy-token\" fill=\"currentColor\" text-anchor=\"middle\" y=\"134.5\">\n",
       "    <tspan class=\"displacy-word\" fill=\"currentColor\" x=\"225\">мыла</tspan>\n",
       "    <tspan class=\"displacy-tag\" dy=\"2em\" fill=\"currentColor\" x=\"225\">VERB</tspan>\n",
       "</text>\n",
       "\n",
       "<text class=\"displacy-token\" fill=\"currentColor\" text-anchor=\"middle\" y=\"134.5\">\n",
       "    <tspan class=\"displacy-word\" fill=\"currentColor\" x=\"400\">раму.</tspan>\n",
       "    <tspan class=\"displacy-tag\" dy=\"2em\" fill=\"currentColor\" x=\"400\">NOUN</tspan>\n",
       "</text>\n",
       "\n",
       "<g class=\"displacy-arrow\">\n",
       "    <path class=\"displacy-arc\" id=\"arrow-a5d8eea469ac4bd19ce7ee52e19aa7eb-0-0\" stroke-width=\"2px\" d=\"M70,89.5 C70,2.0 225.0,2.0 225.0,89.5\" fill=\"none\" stroke=\"currentColor\"/>\n",
       "    <text dy=\"1.25em\" style=\"font-size: 0.8em; letter-spacing: 1px\">\n",
       "        <textPath xlink:href=\"#arrow-a5d8eea469ac4bd19ce7ee52e19aa7eb-0-0\" class=\"displacy-label\" startOffset=\"50%\" side=\"left\" fill=\"currentColor\" text-anchor=\"middle\">nsubj</textPath>\n",
       "    </text>\n",
       "    <path class=\"displacy-arrowhead\" d=\"M70,91.5 L62,79.5 78,79.5\" fill=\"currentColor\"/>\n",
       "</g>\n",
       "\n",
       "<g class=\"displacy-arrow\">\n",
       "    <path class=\"displacy-arc\" id=\"arrow-a5d8eea469ac4bd19ce7ee52e19aa7eb-0-1\" stroke-width=\"2px\" d=\"M245,89.5 C245,2.0 400.0,2.0 400.0,89.5\" fill=\"none\" stroke=\"currentColor\"/>\n",
       "    <text dy=\"1.25em\" style=\"font-size: 0.8em; letter-spacing: 1px\">\n",
       "        <textPath xlink:href=\"#arrow-a5d8eea469ac4bd19ce7ee52e19aa7eb-0-1\" class=\"displacy-label\" startOffset=\"50%\" side=\"left\" fill=\"currentColor\" text-anchor=\"middle\">obj</textPath>\n",
       "    </text>\n",
       "    <path class=\"displacy-arrowhead\" d=\"M400.0,91.5 L408.0,79.5 392.0,79.5\" fill=\"currentColor\"/>\n",
       "</g>\n",
       "</svg></span>"
      ],
      "text/plain": [
       "<IPython.core.display.HTML object>"
      ]
     },
     "metadata": {},
     "output_type": "display_data"
    },
    {
     "data": {
      "text/html": [
       "<span class=\"tex2jax_ignore\"><svg xmlns=\"http://www.w3.org/2000/svg\" xmlns:xlink=\"http://www.w3.org/1999/xlink\" xml:lang=\"ru\" id=\"50b537fbdae74b4db8f62c615347f4b4-0\" class=\"displacy\" width=\"1275\" height=\"487.0\" direction=\"ltr\" style=\"max-width: none; height: 487.0px; color: black; background: ocean; font-family: Source Sans Pro; direction: ltr\">\n",
       "<text class=\"displacy-token\" fill=\"currentColor\" text-anchor=\"middle\" y=\"397.0\">\n",
       "    <tspan class=\"displacy-word\" fill=\"currentColor\" x=\"50\">Погода</tspan>\n",
       "    <tspan class=\"displacy-tag\" dy=\"2em\" fill=\"currentColor\" x=\"50\">NOUN</tspan>\n",
       "</text>\n",
       "\n",
       "<text class=\"displacy-token\" fill=\"currentColor\" text-anchor=\"middle\" y=\"397.0\">\n",
       "    <tspan class=\"displacy-word\" fill=\"currentColor\" x=\"225\">сегодня</tspan>\n",
       "    <tspan class=\"displacy-tag\" dy=\"2em\" fill=\"currentColor\" x=\"225\">ADV</tspan>\n",
       "</text>\n",
       "\n",
       "<text class=\"displacy-token\" fill=\"currentColor\" text-anchor=\"middle\" y=\"397.0\">\n",
       "    <tspan class=\"displacy-word\" fill=\"currentColor\" x=\"400\">кошмарная,</tspan>\n",
       "    <tspan class=\"displacy-tag\" dy=\"2em\" fill=\"currentColor\" x=\"400\">ADJ</tspan>\n",
       "</text>\n",
       "\n",
       "<text class=\"displacy-token\" fill=\"currentColor\" text-anchor=\"middle\" y=\"397.0\">\n",
       "    <tspan class=\"displacy-word\" fill=\"currentColor\" x=\"575\">но</tspan>\n",
       "    <tspan class=\"displacy-tag\" dy=\"2em\" fill=\"currentColor\" x=\"575\">CCONJ</tspan>\n",
       "</text>\n",
       "\n",
       "<text class=\"displacy-token\" fill=\"currentColor\" text-anchor=\"middle\" y=\"397.0\">\n",
       "    <tspan class=\"displacy-word\" fill=\"currentColor\" x=\"750\">завтра</tspan>\n",
       "    <tspan class=\"displacy-tag\" dy=\"2em\" fill=\"currentColor\" x=\"750\">ADV</tspan>\n",
       "</text>\n",
       "\n",
       "<text class=\"displacy-token\" fill=\"currentColor\" text-anchor=\"middle\" y=\"397.0\">\n",
       "    <tspan class=\"displacy-word\" fill=\"currentColor\" x=\"925\">будет</tspan>\n",
       "    <tspan class=\"displacy-tag\" dy=\"2em\" fill=\"currentColor\" x=\"925\">AUX</tspan>\n",
       "</text>\n",
       "\n",
       "<text class=\"displacy-token\" fill=\"currentColor\" text-anchor=\"middle\" y=\"397.0\">\n",
       "    <tspan class=\"displacy-word\" fill=\"currentColor\" x=\"1100\">хуже</tspan>\n",
       "    <tspan class=\"displacy-tag\" dy=\"2em\" fill=\"currentColor\" x=\"1100\">ADJ</tspan>\n",
       "</text>\n",
       "\n",
       "<g class=\"displacy-arrow\">\n",
       "    <path class=\"displacy-arc\" id=\"arrow-50b537fbdae74b4db8f62c615347f4b4-0-0\" stroke-width=\"2px\" d=\"M70,352.0 C70,177.0 390.0,177.0 390.0,352.0\" fill=\"none\" stroke=\"currentColor\"/>\n",
       "    <text dy=\"1.25em\" style=\"font-size: 0.8em; letter-spacing: 1px\">\n",
       "        <textPath xlink:href=\"#arrow-50b537fbdae74b4db8f62c615347f4b4-0-0\" class=\"displacy-label\" startOffset=\"50%\" side=\"left\" fill=\"currentColor\" text-anchor=\"middle\">nsubj</textPath>\n",
       "    </text>\n",
       "    <path class=\"displacy-arrowhead\" d=\"M70,354.0 L62,342.0 78,342.0\" fill=\"currentColor\"/>\n",
       "</g>\n",
       "\n",
       "<g class=\"displacy-arrow\">\n",
       "    <path class=\"displacy-arc\" id=\"arrow-50b537fbdae74b4db8f62c615347f4b4-0-1\" stroke-width=\"2px\" d=\"M245,352.0 C245,264.5 385.0,264.5 385.0,352.0\" fill=\"none\" stroke=\"currentColor\"/>\n",
       "    <text dy=\"1.25em\" style=\"font-size: 0.8em; letter-spacing: 1px\">\n",
       "        <textPath xlink:href=\"#arrow-50b537fbdae74b4db8f62c615347f4b4-0-1\" class=\"displacy-label\" startOffset=\"50%\" side=\"left\" fill=\"currentColor\" text-anchor=\"middle\">advmod</textPath>\n",
       "    </text>\n",
       "    <path class=\"displacy-arrowhead\" d=\"M245,354.0 L237,342.0 253,342.0\" fill=\"currentColor\"/>\n",
       "</g>\n",
       "\n",
       "<g class=\"displacy-arrow\">\n",
       "    <path class=\"displacy-arc\" id=\"arrow-50b537fbdae74b4db8f62c615347f4b4-0-2\" stroke-width=\"2px\" d=\"M595,352.0 C595,89.5 1095.0,89.5 1095.0,352.0\" fill=\"none\" stroke=\"currentColor\"/>\n",
       "    <text dy=\"1.25em\" style=\"font-size: 0.8em; letter-spacing: 1px\">\n",
       "        <textPath xlink:href=\"#arrow-50b537fbdae74b4db8f62c615347f4b4-0-2\" class=\"displacy-label\" startOffset=\"50%\" side=\"left\" fill=\"currentColor\" text-anchor=\"middle\">cc</textPath>\n",
       "    </text>\n",
       "    <path class=\"displacy-arrowhead\" d=\"M595,354.0 L587,342.0 603,342.0\" fill=\"currentColor\"/>\n",
       "</g>\n",
       "\n",
       "<g class=\"displacy-arrow\">\n",
       "    <path class=\"displacy-arc\" id=\"arrow-50b537fbdae74b4db8f62c615347f4b4-0-3\" stroke-width=\"2px\" d=\"M770,352.0 C770,177.0 1090.0,177.0 1090.0,352.0\" fill=\"none\" stroke=\"currentColor\"/>\n",
       "    <text dy=\"1.25em\" style=\"font-size: 0.8em; letter-spacing: 1px\">\n",
       "        <textPath xlink:href=\"#arrow-50b537fbdae74b4db8f62c615347f4b4-0-3\" class=\"displacy-label\" startOffset=\"50%\" side=\"left\" fill=\"currentColor\" text-anchor=\"middle\">advmod</textPath>\n",
       "    </text>\n",
       "    <path class=\"displacy-arrowhead\" d=\"M770,354.0 L762,342.0 778,342.0\" fill=\"currentColor\"/>\n",
       "</g>\n",
       "\n",
       "<g class=\"displacy-arrow\">\n",
       "    <path class=\"displacy-arc\" id=\"arrow-50b537fbdae74b4db8f62c615347f4b4-0-4\" stroke-width=\"2px\" d=\"M945,352.0 C945,264.5 1085.0,264.5 1085.0,352.0\" fill=\"none\" stroke=\"currentColor\"/>\n",
       "    <text dy=\"1.25em\" style=\"font-size: 0.8em; letter-spacing: 1px\">\n",
       "        <textPath xlink:href=\"#arrow-50b537fbdae74b4db8f62c615347f4b4-0-4\" class=\"displacy-label\" startOffset=\"50%\" side=\"left\" fill=\"currentColor\" text-anchor=\"middle\">cop</textPath>\n",
       "    </text>\n",
       "    <path class=\"displacy-arrowhead\" d=\"M945,354.0 L937,342.0 953,342.0\" fill=\"currentColor\"/>\n",
       "</g>\n",
       "\n",
       "<g class=\"displacy-arrow\">\n",
       "    <path class=\"displacy-arc\" id=\"arrow-50b537fbdae74b4db8f62c615347f4b4-0-5\" stroke-width=\"2px\" d=\"M420,352.0 C420,2.0 1100.0,2.0 1100.0,352.0\" fill=\"none\" stroke=\"currentColor\"/>\n",
       "    <text dy=\"1.25em\" style=\"font-size: 0.8em; letter-spacing: 1px\">\n",
       "        <textPath xlink:href=\"#arrow-50b537fbdae74b4db8f62c615347f4b4-0-5\" class=\"displacy-label\" startOffset=\"50%\" side=\"left\" fill=\"currentColor\" text-anchor=\"middle\">conj</textPath>\n",
       "    </text>\n",
       "    <path class=\"displacy-arrowhead\" d=\"M1100.0,354.0 L1108.0,342.0 1092.0,342.0\" fill=\"currentColor\"/>\n",
       "</g>\n",
       "</svg></span>"
      ],
      "text/plain": [
       "<IPython.core.display.HTML object>"
      ]
     },
     "metadata": {},
     "output_type": "display_data"
    },
    {
     "data": {
      "text/html": [
       "<span class=\"tex2jax_ignore\"><svg xmlns=\"http://www.w3.org/2000/svg\" xmlns:xlink=\"http://www.w3.org/1999/xlink\" xml:lang=\"ru\" id=\"a3f36cbb2e574debaf78e2e12c54c375-0\" class=\"displacy\" width=\"750\" height=\"224.5\" direction=\"ltr\" style=\"max-width: none; height: 224.5px; color: black; background: ocean; font-family: Source Sans Pro; direction: ltr\">\n",
       "<text class=\"displacy-token\" fill=\"currentColor\" text-anchor=\"middle\" y=\"134.5\">\n",
       "    <tspan class=\"displacy-word\" fill=\"currentColor\" x=\"50\">Я</tspan>\n",
       "    <tspan class=\"displacy-tag\" dy=\"2em\" fill=\"currentColor\" x=\"50\">PRON</tspan>\n",
       "</text>\n",
       "\n",
       "<text class=\"displacy-token\" fill=\"currentColor\" text-anchor=\"middle\" y=\"134.5\">\n",
       "    <tspan class=\"displacy-word\" fill=\"currentColor\" x=\"225\">забыла</tspan>\n",
       "    <tspan class=\"displacy-tag\" dy=\"2em\" fill=\"currentColor\" x=\"225\">VERB</tspan>\n",
       "</text>\n",
       "\n",
       "<text class=\"displacy-token\" fill=\"currentColor\" text-anchor=\"middle\" y=\"134.5\">\n",
       "    <tspan class=\"displacy-word\" fill=\"currentColor\" x=\"400\">купить</tspan>\n",
       "    <tspan class=\"displacy-tag\" dy=\"2em\" fill=\"currentColor\" x=\"400\">VERB</tspan>\n",
       "</text>\n",
       "\n",
       "<text class=\"displacy-token\" fill=\"currentColor\" text-anchor=\"middle\" y=\"134.5\">\n",
       "    <tspan class=\"displacy-word\" fill=\"currentColor\" x=\"575\">покушать</tspan>\n",
       "    <tspan class=\"displacy-tag\" dy=\"2em\" fill=\"currentColor\" x=\"575\">VERB</tspan>\n",
       "</text>\n",
       "\n",
       "<g class=\"displacy-arrow\">\n",
       "    <path class=\"displacy-arc\" id=\"arrow-a3f36cbb2e574debaf78e2e12c54c375-0-0\" stroke-width=\"2px\" d=\"M70,89.5 C70,2.0 225.0,2.0 225.0,89.5\" fill=\"none\" stroke=\"currentColor\"/>\n",
       "    <text dy=\"1.25em\" style=\"font-size: 0.8em; letter-spacing: 1px\">\n",
       "        <textPath xlink:href=\"#arrow-a3f36cbb2e574debaf78e2e12c54c375-0-0\" class=\"displacy-label\" startOffset=\"50%\" side=\"left\" fill=\"currentColor\" text-anchor=\"middle\">nsubj</textPath>\n",
       "    </text>\n",
       "    <path class=\"displacy-arrowhead\" d=\"M70,91.5 L62,79.5 78,79.5\" fill=\"currentColor\"/>\n",
       "</g>\n",
       "\n",
       "<g class=\"displacy-arrow\">\n",
       "    <path class=\"displacy-arc\" id=\"arrow-a3f36cbb2e574debaf78e2e12c54c375-0-1\" stroke-width=\"2px\" d=\"M245,89.5 C245,2.0 400.0,2.0 400.0,89.5\" fill=\"none\" stroke=\"currentColor\"/>\n",
       "    <text dy=\"1.25em\" style=\"font-size: 0.8em; letter-spacing: 1px\">\n",
       "        <textPath xlink:href=\"#arrow-a3f36cbb2e574debaf78e2e12c54c375-0-1\" class=\"displacy-label\" startOffset=\"50%\" side=\"left\" fill=\"currentColor\" text-anchor=\"middle\">xcomp</textPath>\n",
       "    </text>\n",
       "    <path class=\"displacy-arrowhead\" d=\"M400.0,91.5 L408.0,79.5 392.0,79.5\" fill=\"currentColor\"/>\n",
       "</g>\n",
       "\n",
       "<g class=\"displacy-arrow\">\n",
       "    <path class=\"displacy-arc\" id=\"arrow-a3f36cbb2e574debaf78e2e12c54c375-0-2\" stroke-width=\"2px\" d=\"M420,89.5 C420,2.0 575.0,2.0 575.0,89.5\" fill=\"none\" stroke=\"currentColor\"/>\n",
       "    <text dy=\"1.25em\" style=\"font-size: 0.8em; letter-spacing: 1px\">\n",
       "        <textPath xlink:href=\"#arrow-a3f36cbb2e574debaf78e2e12c54c375-0-2\" class=\"displacy-label\" startOffset=\"50%\" side=\"left\" fill=\"currentColor\" text-anchor=\"middle\">xcomp</textPath>\n",
       "    </text>\n",
       "    <path class=\"displacy-arrowhead\" d=\"M575.0,91.5 L583.0,79.5 567.0,79.5\" fill=\"currentColor\"/>\n",
       "</g>\n",
       "</svg></span>"
      ],
      "text/plain": [
       "<IPython.core.display.HTML object>"
      ]
     },
     "metadata": {},
     "output_type": "display_data"
    }
   ],
   "source": [
    "import spacy\n",
    "from spacy import displacy\n",
    "nlp = spacy.load('ru_core_news_sm')\n",
    "doc = nlp('Мама мыла раму.')\n",
    "doc2 = nlp('Погода сегодня кошмарная, но завтра будет хуже')\n",
    "doc3 = nlp('Я забыла купить покушать')\n",
    "options = {\"bg\": \"ocean\",\n",
    "           \"color\": \"black\", \"font\": \"Source Sans Pro\"}\n",
    "displacy.render(doc, style='dep', options=options)\n",
    "displacy.render(doc2, style='dep', options=options)\n",
    "displacy.render(doc3, style='dep', options=options)"
   ]
  },
  {
   "cell_type": "markdown",
   "id": "a3f76d6e-901e-446f-9075-18de347e86cd",
   "metadata": {},
   "source": [
    "#### Задача 5. \n",
    "\n",
    "Возьмите любой текстовый файл и попробуйте поискать в нем редупликации вида \"X-то X\". Нас устроит все, похожее на \"дурак-то он дурак\", \"красивая-то красивая\": между словами с повтором может что-то быть, как в первом примере, а может ничего не быть. Подумайте сами, насколько далеко могут отстоять друг от друга повторяющиеся слова. "
   ]
  },
  {
   "cell_type": "code",
   "execution_count": 3,
   "id": "3dc15ac2-93ea-497a-a898-2b0b5809cfd5",
   "metadata": {},
   "outputs": [],
   "source": [
    "import re"
   ]
  },
  {
   "cell_type": "code",
   "execution_count": 28,
   "id": "e2b425a9-0bf5-4fb9-bad5-84c7779302e9",
   "metadata": {},
   "outputs": [
    {
     "name": "stdout",
     "output_type": "stream",
     "text": [
      "['дурак-то он дурак', 'Семья-то семья']\n"
     ]
    }
   ],
   "source": [
    "text = 'Он сделал большую глупость. Однако, дурак-то он дурак, но сделал это ради своей семьи. Семья-то семья, а как же остальные?'\n",
    "pattern = re.compile(r'(?i)((\\w+)-то.*\\2)')  #Как я поняла, нельзя делать ссылки на группы без захвата содержимого, \n",
    "                                             # так что как избавиться от второго элемента в картеже я не поняла\n",
    "lst = re.findall(pattern, text)\n",
    "rezult = [i[0] for i in lst]\n",
    "print(rezult)"
   ]
  },
  {
   "cell_type": "markdown",
   "id": "7baf1831-2f6b-4ec1-9a54-4da466132393",
   "metadata": {},
   "source": [
    "#### Задача 6. \n",
    "\n",
    "А теперь очень похожий квест, но с глаголами: ищем конструкции вида \"сделать я сделал\", \"пойти он пошел\". Очевидно, что здесь пригодится какая-нибудь лемматизация. "
   ]
  },
  {
   "cell_type": "code",
   "execution_count": 17,
   "id": "52a39f56-275d-49e4-94d7-c908887ec953",
   "metadata": {},
   "outputs": [
    {
     "name": "stdout",
     "output_type": "stream",
     "text": [
      "Already downloaded a model for the 'ru' language\n"
     ]
    }
   ],
   "source": [
    "import spacy_udpipe\n",
    "spacy_udpipe.download('ru')"
   ]
  },
  {
   "cell_type": "code",
   "execution_count": 25,
   "id": "4f2bffb2-8985-4f48-9a63-065e3ab55a53",
   "metadata": {},
   "outputs": [],
   "source": [
    "text = '''Он сделал большую глупость. Однако, дурак-то он дурак, но сделал это ради своей семьи. Сделать он сделал, только это уже ничего не изменит. \n",
    "          Вот если бы он туда пошел. Хотя, пойти он пошел, его всё равно не пустили.'''\n",
    "nlp = spacy_udpipe.load('ru')\n",
    "doc = nlp(text)\n",
    "rezult = []\n",
    "for i in range(0, len(doc) - 2):\n",
    "    if doc[i].lemma_ == doc[i + 2].lemma_:\n",
    "        t = ' '.join([str(doc[i]), str(doc[i + 1]), str(doc[i + 2])])\n",
    "        #t = str(doc[i]) + ' ' + str(doc[i + 1]) + ' ' + str(doc[i + 2])\n",
    "        rezult.append(t)"
   ]
  },
  {
   "cell_type": "code",
   "execution_count": 26,
   "id": "0c3f566b-199e-4dd2-b6ec-d23c82608df3",
   "metadata": {},
   "outputs": [
    {
     "data": {
      "text/plain": [
       "['Сделать он сделал', 'пойти он пошел']"
      ]
     },
     "execution_count": 26,
     "metadata": {},
     "output_type": "execute_result"
    }
   ],
   "source": [
    "rezult"
   ]
  },
  {
   "cell_type": "code",
   "execution_count": 20,
   "id": "2d2a7301-c521-407d-a1fb-ecee26b918f5",
   "metadata": {},
   "outputs": [
    {
     "data": {
      "text/plain": [
       "spacy.tokens.token.Token"
      ]
     },
     "execution_count": 20,
     "metadata": {},
     "output_type": "execute_result"
    }
   ],
   "source": [
    "type(doc[3])"
   ]
  }
 ],
 "metadata": {
  "kernelspec": {
   "display_name": "Python 3 (ipykernel)",
   "language": "python",
   "name": "python3"
  },
  "language_info": {
   "codemirror_mode": {
    "name": "ipython",
    "version": 3
   },
   "file_extension": ".py",
   "mimetype": "text/x-python",
   "name": "python",
   "nbconvert_exporter": "python",
   "pygments_lexer": "ipython3",
   "version": "3.9.7"
  }
 },
 "nbformat": 4,
 "nbformat_minor": 5
}
